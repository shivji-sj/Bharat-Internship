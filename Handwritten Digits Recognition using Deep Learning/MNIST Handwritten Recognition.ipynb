{
 "cells": [
  {
   "cell_type": "markdown",
   "id": "c0ed5c1d",
   "metadata": {
    "id": "c0ed5c1d"
   },
   "source": [
    "# Bharat Internship - Task 3 Handwritten Digits Recognition using Deep Learning"
   ]
  },
  {
   "cell_type": "markdown",
   "id": "aa99e3a9",
   "metadata": {
    "id": "aa99e3a9"
   },
   "source": [
    "Submitted By : **SHIVJI**"
   ]
  },
  {
   "cell_type": "markdown",
   "id": "206234a6",
   "metadata": {},
   "source": [
    "### 1. Importing Required Libraries"
   ]
  },
  {
   "cell_type": "code",
   "execution_count": 1,
   "id": "975fb3c0",
   "metadata": {},
   "outputs": [],
   "source": [
    "import numpy as np\n",
    "import pandas as pd\n",
    "import matplotlib.pyplot as plt\n",
    "import seaborn as sns"
   ]
  },
  {
   "cell_type": "code",
   "execution_count": 2,
   "id": "abaa10a1",
   "metadata": {},
   "outputs": [],
   "source": [
    "import tensorflow as tf\n",
    "import keras"
   ]
  },
  {
   "cell_type": "markdown",
   "id": "a225261d",
   "metadata": {},
   "source": [
    "### 2. Reading and Understanding the Data"
   ]
  },
  {
   "cell_type": "code",
   "execution_count": 3,
   "id": "11b31fb9",
   "metadata": {},
   "outputs": [],
   "source": [
    "from  tensorflow.keras.datasets import mnist"
   ]
  },
  {
   "cell_type": "code",
   "execution_count": 4,
   "id": "92cf966f",
   "metadata": {},
   "outputs": [],
   "source": [
    "df = mnist.load_data()\n",
    "\n",
    "(X_train, y_train), (X_test, y_test) = df"
   ]
  },
  {
   "cell_type": "code",
   "execution_count": 5,
   "id": "3d9115b9",
   "metadata": {
    "scrolled": false
   },
   "outputs": [
    {
     "data": {
      "text/plain": [
       "array([[  0,   0,   0,   0,   0,   0,   0,   0,   0,   0,   0,   0,   0,\n",
       "          0,   0,   0,   0,   0,   0,   0,   0,   0,   0,   0,   0,   0,\n",
       "          0,   0],\n",
       "       [  0,   0,   0,   0,   0,   0,   0,   0,   0,   0,   0,   0,   0,\n",
       "          0,   0,   0,   0,   0,   0,   0,   0,   0,   0,   0,   0,   0,\n",
       "          0,   0],\n",
       "       [  0,   0,   0,   0,   0,   0,   0,   0,   0,   0,   0,   0,   0,\n",
       "          0,   0,   0,   0,   0,   0,   0,   0,   0,   0,   0,   0,   0,\n",
       "          0,   0],\n",
       "       [  0,   0,   0,   0,   0,   0,   0,   0,   0,   0,   0,   0,   0,\n",
       "          0,   0,   0,   0,   0,   0,   0,   0,   0,   0,   0,   0,   0,\n",
       "          0,   0],\n",
       "       [  0,   0,   0,   0,   0,   0,   0,   0,   0,   0,   0,   0,   0,\n",
       "          0,   0,   0,   0,   0,   0,   0,   0,   0,   0,   0,   0,   0,\n",
       "          0,   0],\n",
       "       [  0,   0,   0,   0,   0,   0,   0,   0,   0,   0,   0,   0,   3,\n",
       "         18,  18,  18, 126, 136, 175,  26, 166, 255, 247, 127,   0,   0,\n",
       "          0,   0],\n",
       "       [  0,   0,   0,   0,   0,   0,   0,   0,  30,  36,  94, 154, 170,\n",
       "        253, 253, 253, 253, 253, 225, 172, 253, 242, 195,  64,   0,   0,\n",
       "          0,   0],\n",
       "       [  0,   0,   0,   0,   0,   0,   0,  49, 238, 253, 253, 253, 253,\n",
       "        253, 253, 253, 253, 251,  93,  82,  82,  56,  39,   0,   0,   0,\n",
       "          0,   0],\n",
       "       [  0,   0,   0,   0,   0,   0,   0,  18, 219, 253, 253, 253, 253,\n",
       "        253, 198, 182, 247, 241,   0,   0,   0,   0,   0,   0,   0,   0,\n",
       "          0,   0],\n",
       "       [  0,   0,   0,   0,   0,   0,   0,   0,  80, 156, 107, 253, 253,\n",
       "        205,  11,   0,  43, 154,   0,   0,   0,   0,   0,   0,   0,   0,\n",
       "          0,   0],\n",
       "       [  0,   0,   0,   0,   0,   0,   0,   0,   0,  14,   1, 154, 253,\n",
       "         90,   0,   0,   0,   0,   0,   0,   0,   0,   0,   0,   0,   0,\n",
       "          0,   0],\n",
       "       [  0,   0,   0,   0,   0,   0,   0,   0,   0,   0,   0, 139, 253,\n",
       "        190,   2,   0,   0,   0,   0,   0,   0,   0,   0,   0,   0,   0,\n",
       "          0,   0],\n",
       "       [  0,   0,   0,   0,   0,   0,   0,   0,   0,   0,   0,  11, 190,\n",
       "        253,  70,   0,   0,   0,   0,   0,   0,   0,   0,   0,   0,   0,\n",
       "          0,   0],\n",
       "       [  0,   0,   0,   0,   0,   0,   0,   0,   0,   0,   0,   0,  35,\n",
       "        241, 225, 160, 108,   1,   0,   0,   0,   0,   0,   0,   0,   0,\n",
       "          0,   0],\n",
       "       [  0,   0,   0,   0,   0,   0,   0,   0,   0,   0,   0,   0,   0,\n",
       "         81, 240, 253, 253, 119,  25,   0,   0,   0,   0,   0,   0,   0,\n",
       "          0,   0],\n",
       "       [  0,   0,   0,   0,   0,   0,   0,   0,   0,   0,   0,   0,   0,\n",
       "          0,  45, 186, 253, 253, 150,  27,   0,   0,   0,   0,   0,   0,\n",
       "          0,   0],\n",
       "       [  0,   0,   0,   0,   0,   0,   0,   0,   0,   0,   0,   0,   0,\n",
       "          0,   0,  16,  93, 252, 253, 187,   0,   0,   0,   0,   0,   0,\n",
       "          0,   0],\n",
       "       [  0,   0,   0,   0,   0,   0,   0,   0,   0,   0,   0,   0,   0,\n",
       "          0,   0,   0,   0, 249, 253, 249,  64,   0,   0,   0,   0,   0,\n",
       "          0,   0],\n",
       "       [  0,   0,   0,   0,   0,   0,   0,   0,   0,   0,   0,   0,   0,\n",
       "          0,  46, 130, 183, 253, 253, 207,   2,   0,   0,   0,   0,   0,\n",
       "          0,   0],\n",
       "       [  0,   0,   0,   0,   0,   0,   0,   0,   0,   0,   0,   0,  39,\n",
       "        148, 229, 253, 253, 253, 250, 182,   0,   0,   0,   0,   0,   0,\n",
       "          0,   0],\n",
       "       [  0,   0,   0,   0,   0,   0,   0,   0,   0,   0,  24, 114, 221,\n",
       "        253, 253, 253, 253, 201,  78,   0,   0,   0,   0,   0,   0,   0,\n",
       "          0,   0],\n",
       "       [  0,   0,   0,   0,   0,   0,   0,   0,  23,  66, 213, 253, 253,\n",
       "        253, 253, 198,  81,   2,   0,   0,   0,   0,   0,   0,   0,   0,\n",
       "          0,   0],\n",
       "       [  0,   0,   0,   0,   0,   0,  18, 171, 219, 253, 253, 253, 253,\n",
       "        195,  80,   9,   0,   0,   0,   0,   0,   0,   0,   0,   0,   0,\n",
       "          0,   0],\n",
       "       [  0,   0,   0,   0,  55, 172, 226, 253, 253, 253, 253, 244, 133,\n",
       "         11,   0,   0,   0,   0,   0,   0,   0,   0,   0,   0,   0,   0,\n",
       "          0,   0],\n",
       "       [  0,   0,   0,   0, 136, 253, 253, 253, 212, 135, 132,  16,   0,\n",
       "          0,   0,   0,   0,   0,   0,   0,   0,   0,   0,   0,   0,   0,\n",
       "          0,   0],\n",
       "       [  0,   0,   0,   0,   0,   0,   0,   0,   0,   0,   0,   0,   0,\n",
       "          0,   0,   0,   0,   0,   0,   0,   0,   0,   0,   0,   0,   0,\n",
       "          0,   0],\n",
       "       [  0,   0,   0,   0,   0,   0,   0,   0,   0,   0,   0,   0,   0,\n",
       "          0,   0,   0,   0,   0,   0,   0,   0,   0,   0,   0,   0,   0,\n",
       "          0,   0],\n",
       "       [  0,   0,   0,   0,   0,   0,   0,   0,   0,   0,   0,   0,   0,\n",
       "          0,   0,   0,   0,   0,   0,   0,   0,   0,   0,   0,   0,   0,\n",
       "          0,   0]], dtype=uint8)"
      ]
     },
     "execution_count": 5,
     "metadata": {},
     "output_type": "execute_result"
    }
   ],
   "source": [
    "X_train[0]"
   ]
  },
  {
   "cell_type": "code",
   "execution_count": 6,
   "id": "8cde3d21",
   "metadata": {},
   "outputs": [
    {
     "name": "stdout",
     "output_type": "stream",
     "text": [
      "\n",
      "Train labels:  {0: 5923, 1: 6742, 2: 5958, 3: 6131, 4: 5842, 5: 5421, 6: 5918, 7: 6265, 8: 5851, 9: 5949}\n",
      "\n",
      "Test labels:  {0: 980, 1: 1135, 2: 1032, 3: 1010, 4: 982, 5: 892, 6: 958, 7: 1028, 8: 974, 9: 1009}\n"
     ]
    }
   ],
   "source": [
    "unique, counts = np.unique(y_train, return_counts=True)\n",
    "print(\"\\nTrain labels: \", dict(zip(unique, counts)))\n",
    "\n",
    "unique, counts = np.unique(y_test, return_counts=True)\n",
    "print(\"\\nTest labels: \", dict(zip(unique, counts)))"
   ]
  },
  {
   "cell_type": "markdown",
   "id": "41953988",
   "metadata": {},
   "source": [
    "### 3. Data Visualization"
   ]
  },
  {
   "cell_type": "code",
   "execution_count": 7,
   "id": "66642f25",
   "metadata": {
    "scrolled": false
   },
   "outputs": [
    {
     "data": {
      "image/png": "[encoded data removed]",
      "text/plain": [
       "<Figure size 480x480 with 1 Axes>"
      ]
     },
     "metadata": {},
     "output_type": "display_data"
    }
   ],
   "source": [
    "# visualizing single value\n",
    "plt.matshow(X_train[0])\n",
    "plt.show()"
   ]
  },
  {
   "cell_type": "code",
   "execution_count": 8,
   "id": "05b52b5e",
   "metadata": {},
   "outputs": [],
   "source": [
    "# ploting 25 sample mnist digits from train dataset\n",
    "\n",
    "indexes = np.random.randint(0, X_train.shape[0], size=25)\n",
    "images = X_train[indexes]\n",
    "labels = y_train[indexes]"
   ]
  },
  {
   "cell_type": "code",
   "execution_count": 9,
   "id": "dd5df59f",
   "metadata": {},
   "outputs": [
    {
     "data": {
      "image/png": "[encoded data removed]",
      "text/plain": [
       "<Figure size 1000x1000 with 25 Axes>"
      ]
     },
     "metadata": {},
     "output_type": "display_data"
    },
    {
     "data": {
      "text/plain": [
       "<Figure size 640x480 with 0 Axes>"
      ]
     },
     "metadata": {},
     "output_type": "display_data"
    }
   ],
   "source": [
    "# plot the 25 mnist digits randomly\n",
    "plt.figure(figsize=(10,10))\n",
    "for i in range(len(indexes)):\n",
    "    plt.subplot(5,5,i+1)\n",
    "    image = images[i]\n",
    "    plt.title(f\"Label: {labels[i]}\")\n",
    "    plt.imshow(image, cmap=\"gray\")\n",
    "    plt.axis(\"off\")\n",
    "plt.show()\n",
    "plt.savefig(\"mnist_dataset_sample.png\")"
   ]
  },
  {
   "cell_type": "code",
   "execution_count": 10,
   "id": "5a609393",
   "metadata": {},
   "outputs": [
    {
     "data": {
      "image/png": "[encoded data removed]",
      "text/plain": [
       "<Figure size 1000x1000 with 25 Axes>"
      ]
     },
     "metadata": {},
     "output_type": "display_data"
    }
   ],
   "source": [
    "fig,ax=plt.subplots(5,5,figsize=(10,10))\n",
    "ax=ax.ravel()\n",
    "for i in range(len(indexes)):\n",
    "    ax[i].imshow(images[i],cmap=\"jet\")\n",
    "    ax[i].set_title(f\"Label:{labels[i]}\")\n",
    "    ax[i].axis(\"off\")\n",
    "plt.subplots_adjust(wspace=0.5, hspace=0.5)\n",
    "plt.show()"
   ]
  },
  {
   "cell_type": "markdown",
   "id": "35899a18",
   "metadata": {},
   "source": [
    "### 4. Data Preprocessing"
   ]
  },
  {
   "cell_type": "markdown",
   "id": "b22b0f3e",
   "metadata": {},
   "source": [
    "**Performing these operations**\n",
    "\n",
    "- Reshape the data\n",
    "- Change the datatype to float32\n",
    "- Normalize the dataset\n",
    "- Perform One-Hot Encoding on the labels"
   ]
  },
  {
   "cell_type": "markdown",
   "id": "19957d2e",
   "metadata": {},
   "source": [
    "**1. Reshape the data**"
   ]
  },
  {
   "cell_type": "code",
   "execution_count": 11,
   "id": "00f07f75",
   "metadata": {},
   "outputs": [
    {
     "data": {
      "text/plain": [
       "((60000, 784), (10000, 784))"
      ]
     },
     "execution_count": 11,
     "metadata": {},
     "output_type": "execute_result"
    }
   ],
   "source": [
    "# train and test set\n",
    "reshaped = 784\n",
    "# X_train = X_train.reshape(X_train.shape[0], 28, 28, 1)\n",
    "# X_test = X_test.reshape(X_test.shape[0], 28, 28, 1)\n",
    "\n",
    "X_train = X_train.reshape(X_train.shape[0], 28*28)\n",
    "X_test = X_test.reshape(X_test.shape[0], 28*28)\n",
    "\n",
    "# shape of X_train and X_test\n",
    "(X_train.shape, X_test.shape)"
   ]
  },
  {
   "cell_type": "markdown",
   "id": "1587c315",
   "metadata": {},
   "source": [
    "**2. Change the datatype to float**"
   ]
  },
  {
   "cell_type": "code",
   "execution_count": 12,
   "id": "eeb9ed90",
   "metadata": {},
   "outputs": [],
   "source": [
    "X_train = X_train.astype(\"float32\")\n",
    "X_test = X_test.astype(\"float32\")"
   ]
  },
  {
   "cell_type": "markdown",
   "id": "9006b14d",
   "metadata": {},
   "source": [
    "**3. Normalize the dataset**"
   ]
  },
  {
   "cell_type": "code",
   "execution_count": 13,
   "id": "aa4cdc37",
   "metadata": {},
   "outputs": [
    {
     "name": "stdout",
     "output_type": "stream",
     "text": [
      "60000 , Train Samples\n",
      "10000 , Test Samples\n"
     ]
    }
   ],
   "source": [
    "X_train = X_train / 255\n",
    "X_test = X_test / 255\n",
    "\n",
    "print(X_train.shape[0], \", Train Samples\")\n",
    "print(X_test.shape[0], \", Test Samples\")"
   ]
  },
  {
   "cell_type": "markdown",
   "id": "3359ff1e",
   "metadata": {},
   "source": [
    "**4. Performing One-Hot Encoding of the Labels**"
   ]
  },
  {
   "cell_type": "code",
   "execution_count": 14,
   "id": "7e7cd3ec",
   "metadata": {},
   "outputs": [],
   "source": [
    "# total number of labels\n",
    "num_labels =  len(unique)\n",
    "\n",
    "y_train = tf.keras.utils.to_categorical(y_train, num_labels)\n",
    "y_test = tf.keras.utils.to_categorical(y_test, num_labels)"
   ]
  },
  {
   "cell_type": "markdown",
   "id": "39d08a51",
   "metadata": {},
   "source": [
    "### 5. Model Building "
   ]
  },
  {
   "cell_type": "code",
   "execution_count": 15,
   "id": "ffc960ca",
   "metadata": {},
   "outputs": [],
   "source": [
    "from tensorflow.keras.models import Sequential\n",
    "from tensorflow.keras.layers import Dense, Dropout, Flatten, Activation\n",
    "from tensorflow.keras.utils import to_categorical"
   ]
  },
  {
   "cell_type": "markdown",
   "id": "c7538aa9",
   "metadata": {},
   "source": [
    "- **Model 1**"
   ]
  },
  {
   "cell_type": "code",
   "execution_count": 16,
   "id": "6c6f89ca",
   "metadata": {
    "scrolled": false
   },
   "outputs": [],
   "source": [
    "def model1():\n",
    "    \n",
    "    global hist, model\n",
    "    model = Sequential()\n",
    "    model.add(Dense(128,input_shape=(784,), activation=\"relu\" ))\n",
    "    model.add(Dense(10, name=\"dense_layer\", activation=\"softmax\"))\n",
    "    model.compile(optimizer=\"adam\", loss=\"mse\", metrics=[\"accuracy\"])\n",
    "    print(model.summary())\n",
    "    \n",
    "    hist = model.fit(X_train, y_train, batch_size=64, epochs=10, validation_split=0.3)\n",
    "    return hist, model\n",
    "\n",
    "def model2():\n",
    "    # network parameters\n",
    "    batch_size = 700\n",
    "    hidden_units = 62\n",
    "    dropout = 0.20\n",
    "    global model, hist\n",
    "    \n",
    "    model = Sequential()\n",
    "    model.add(Dense(hidden_units, input_dim=784))\n",
    "    model.add(Activation('relu'))\n",
    "    model.add(Dropout(dropout))\n",
    "    model.add(Dense(hidden_units))\n",
    "    model.add(Activation('relu'))\n",
    "    model.add(Dropout(dropout))\n",
    "    model.add(Dense(10))\n",
    "    model.add(Activation('softmax'))\n",
    "    model.summary()\n",
    "    model.compile(loss='categorical_crossentropy', \n",
    "              optimizer='adam',\n",
    "              metrics=['accuracy'])\n",
    "    hist = model.fit(X_train, y_train, epochs=150, batch_size=batch_size, validation_split=0.3)\n",
    "    return hist, model"
   ]
  },
  {
   "cell_type": "code",
   "execution_count": 17,
   "id": "c8ecfb73",
   "metadata": {
    "scrolled": false
   },
   "outputs": [
    {
     "name": "stdout",
     "output_type": "stream",
     "text": [
      "Model: \"sequential\"\n",
      "_________________________________________________________________\n",
      " Layer (type)                Output Shape              Param #   \n",
      "=================================================================\n",
      " dense (Dense)               (None, 62)                48670     \n",
      "                                                                 \n",
      " activation (Activation)     (None, 62)                0         \n",
      "                                                                 \n",
      " dropout (Dropout)           (None, 62)                0         \n",
      "                                                                 \n",
      " dense_1 (Dense)             (None, 62)                3906      \n",
      "                                                                 \n",
      " activation_1 (Activation)   (None, 62)                0         \n",
      "                                                                 \n",
      " dropout_1 (Dropout)         (None, 62)                0         \n",
      "                                                                 \n",
      " dense_2 (Dense)             (None, 10)                630       \n",
      "                                                                 \n",
      " activation_2 (Activation)   (None, 10)                0         \n",
      "                                                                 \n",
      "=================================================================\n",
      "Total params: 53206 (207.84 KB)\n",
      "Trainable params: 53206 (207.84 KB)\n",
      "Non-trainable params: 0 (0.00 Byte)\n",
      "_________________________________________________________________\n",
      "Epoch 1/150\n",
      "60/60 [==============================] - 3s 25ms/step - loss: 1.3204 - accuracy: 0.5857 - val_loss: 0.4865 - val_accuracy: 0.8677\n",
      "Epoch 2/150\n",
      "60/60 [==============================] - 1s 18ms/step - loss: 0.5331 - accuracy: 0.8410 - val_loss: 0.3093 - val_accuracy: 0.9099\n",
      "Epoch 3/150\n",
      "60/60 [==============================] - 1s 18ms/step - loss: 0.3925 - accuracy: 0.8843 - val_loss: 0.2501 - val_accuracy: 0.9276\n",
      "Epoch 4/150\n",
      "60/60 [==============================] - 1s 19ms/step - loss: 0.3252 - accuracy: 0.9045 - val_loss: 0.2190 - val_accuracy: 0.9351\n",
      "Epoch 5/150\n",
      "60/60 [==============================] - 1s 20ms/step - loss: 0.2905 - accuracy: 0.9152 - val_loss: 0.1994 - val_accuracy: 0.9413\n",
      "Epoch 6/150\n",
      "60/60 [==============================] - 1s 19ms/step - loss: 0.2577 - accuracy: 0.9254 - val_loss: 0.1852 - val_accuracy: 0.9447\n",
      "Epoch 7/150\n",
      "60/60 [==============================] - 1s 18ms/step - loss: 0.2357 - accuracy: 0.9308 - val_loss: 0.1699 - val_accuracy: 0.9496\n",
      "Epoch 8/150\n",
      "60/60 [==============================] - 1s 18ms/step - loss: 0.2174 - accuracy: 0.9367 - val_loss: 0.1596 - val_accuracy: 0.9523\n",
      "Epoch 9/150\n",
      "60/60 [==============================] - 1s 18ms/step - loss: 0.2025 - accuracy: 0.9399 - val_loss: 0.1535 - val_accuracy: 0.9545\n",
      "Epoch 10/150\n",
      "60/60 [==============================] - 1s 19ms/step - loss: 0.1916 - accuracy: 0.9422 - val_loss: 0.1445 - val_accuracy: 0.9564\n",
      "Epoch 11/150\n",
      "60/60 [==============================] - 1s 18ms/step - loss: 0.1796 - accuracy: 0.9471 - val_loss: 0.1391 - val_accuracy: 0.9590\n",
      "Epoch 12/150\n",
      "60/60 [==============================] - 1s 19ms/step - loss: 0.1708 - accuracy: 0.9486 - val_loss: 0.1359 - val_accuracy: 0.9603\n",
      "Epoch 13/150\n",
      "60/60 [==============================] - 1s 18ms/step - loss: 0.1599 - accuracy: 0.9516 - val_loss: 0.1305 - val_accuracy: 0.9609\n",
      "Epoch 14/150\n",
      "60/60 [==============================] - 1s 19ms/step - loss: 0.1539 - accuracy: 0.9535 - val_loss: 0.1272 - val_accuracy: 0.9614\n",
      "Epoch 15/150\n",
      "60/60 [==============================] - 1s 20ms/step - loss: 0.1432 - accuracy: 0.9574 - val_loss: 0.1219 - val_accuracy: 0.9633\n",
      "Epoch 16/150\n",
      "60/60 [==============================] - 1s 20ms/step - loss: 0.1380 - accuracy: 0.9590 - val_loss: 0.1215 - val_accuracy: 0.9639\n",
      "Epoch 17/150\n",
      "60/60 [==============================] - 1s 21ms/step - loss: 0.1363 - accuracy: 0.9586 - val_loss: 0.1189 - val_accuracy: 0.9638\n",
      "Epoch 18/150\n",
      "60/60 [==============================] - 1s 20ms/step - loss: 0.1298 - accuracy: 0.9597 - val_loss: 0.1143 - val_accuracy: 0.9669\n",
      "Epoch 19/150\n",
      "60/60 [==============================] - 1s 20ms/step - loss: 0.1218 - accuracy: 0.9623 - val_loss: 0.1155 - val_accuracy: 0.9656\n",
      "Epoch 20/150\n",
      "60/60 [==============================] - 1s 19ms/step - loss: 0.1239 - accuracy: 0.9616 - val_loss: 0.1122 - val_accuracy: 0.9667\n",
      "Epoch 21/150\n",
      "60/60 [==============================] - 1s 19ms/step - loss: 0.1155 - accuracy: 0.9649 - val_loss: 0.1086 - val_accuracy: 0.9682\n",
      "Epoch 22/150\n",
      "60/60 [==============================] - 1s 18ms/step - loss: 0.1135 - accuracy: 0.9650 - val_loss: 0.1081 - val_accuracy: 0.9679\n",
      "Epoch 23/150\n",
      "60/60 [==============================] - 1s 18ms/step - loss: 0.1099 - accuracy: 0.9663 - val_loss: 0.1091 - val_accuracy: 0.9674\n",
      "Epoch 24/150\n",
      "60/60 [==============================] - 1s 18ms/step - loss: 0.1077 - accuracy: 0.9671 - val_loss: 0.1064 - val_accuracy: 0.9689\n",
      "Epoch 25/150\n",
      "60/60 [==============================] - 1s 19ms/step - loss: 0.1018 - accuracy: 0.9679 - val_loss: 0.1090 - val_accuracy: 0.9679\n",
      "Epoch 26/150\n",
      "60/60 [==============================] - 1s 19ms/step - loss: 0.0987 - accuracy: 0.9700 - val_loss: 0.1076 - val_accuracy: 0.9693\n",
      "Epoch 27/150\n",
      "60/60 [==============================] - 1s 19ms/step - loss: 0.0975 - accuracy: 0.9695 - val_loss: 0.1074 - val_accuracy: 0.9697\n",
      "Epoch 28/150\n",
      "60/60 [==============================] - 1s 19ms/step - loss: 0.0948 - accuracy: 0.9705 - val_loss: 0.1095 - val_accuracy: 0.9683\n",
      "Epoch 29/150\n",
      "60/60 [==============================] - 1s 19ms/step - loss: 0.0900 - accuracy: 0.9714 - val_loss: 0.1056 - val_accuracy: 0.9693\n",
      "Epoch 30/150\n",
      "60/60 [==============================] - 1s 18ms/step - loss: 0.0938 - accuracy: 0.9703 - val_loss: 0.1056 - val_accuracy: 0.9697\n",
      "Epoch 31/150\n",
      "60/60 [==============================] - 1s 20ms/step - loss: 0.0884 - accuracy: 0.9722 - val_loss: 0.1066 - val_accuracy: 0.9699\n",
      "Epoch 32/150\n",
      "60/60 [==============================] - 1s 19ms/step - loss: 0.0872 - accuracy: 0.9722 - val_loss: 0.1009 - val_accuracy: 0.9709\n",
      "Epoch 33/150\n",
      "60/60 [==============================] - 1s 19ms/step - loss: 0.0865 - accuracy: 0.9725 - val_loss: 0.1034 - val_accuracy: 0.9708\n",
      "Epoch 34/150\n",
      "60/60 [==============================] - 1s 19ms/step - loss: 0.0824 - accuracy: 0.9742 - val_loss: 0.1048 - val_accuracy: 0.9702\n",
      "Epoch 35/150\n",
      "60/60 [==============================] - 1s 18ms/step - loss: 0.0813 - accuracy: 0.9747 - val_loss: 0.1060 - val_accuracy: 0.9701\n",
      "Epoch 36/150\n",
      "60/60 [==============================] - 1s 19ms/step - loss: 0.0804 - accuracy: 0.9752 - val_loss: 0.1038 - val_accuracy: 0.9706\n",
      "Epoch 37/150\n",
      "60/60 [==============================] - 1s 19ms/step - loss: 0.0779 - accuracy: 0.9761 - val_loss: 0.1061 - val_accuracy: 0.9707\n",
      "Epoch 38/150\n",
      "60/60 [==============================] - 1s 21ms/step - loss: 0.0778 - accuracy: 0.9754 - val_loss: 0.1077 - val_accuracy: 0.9704\n",
      "Epoch 39/150\n",
      "60/60 [==============================] - 1s 19ms/step - loss: 0.0742 - accuracy: 0.9773 - val_loss: 0.1036 - val_accuracy: 0.9706\n",
      "Epoch 40/150\n",
      "60/60 [==============================] - 1s 18ms/step - loss: 0.0773 - accuracy: 0.9749 - val_loss: 0.1043 - val_accuracy: 0.9708\n",
      "Epoch 41/150\n",
      "60/60 [==============================] - 1s 18ms/step - loss: 0.0720 - accuracy: 0.9769 - val_loss: 0.1095 - val_accuracy: 0.9701\n",
      "Epoch 42/150\n",
      "60/60 [==============================] - 1s 19ms/step - loss: 0.0725 - accuracy: 0.9772 - val_loss: 0.1021 - val_accuracy: 0.9714\n",
      "Epoch 43/150\n",
      "60/60 [==============================] - 1s 18ms/step - loss: 0.0708 - accuracy: 0.9775 - val_loss: 0.1043 - val_accuracy: 0.9707\n",
      "Epoch 44/150\n",
      "60/60 [==============================] - 1s 19ms/step - loss: 0.0715 - accuracy: 0.9767 - val_loss: 0.1047 - val_accuracy: 0.9708\n",
      "Epoch 45/150\n",
      "60/60 [==============================] - 1s 18ms/step - loss: 0.0670 - accuracy: 0.9793 - val_loss: 0.1032 - val_accuracy: 0.9715\n",
      "Epoch 46/150\n",
      "60/60 [==============================] - 1s 19ms/step - loss: 0.0683 - accuracy: 0.9778 - val_loss: 0.1034 - val_accuracy: 0.9701\n",
      "Epoch 47/150\n",
      "60/60 [==============================] - 1s 19ms/step - loss: 0.0652 - accuracy: 0.9789 - val_loss: 0.1060 - val_accuracy: 0.9709\n"
     ]
    },
    {
     "name": "stdout",
     "output_type": "stream",
     "text": [
      "Epoch 48/150\n",
      "60/60 [==============================] - 1s 18ms/step - loss: 0.0644 - accuracy: 0.9792 - val_loss: 0.1047 - val_accuracy: 0.9718\n",
      "Epoch 49/150\n",
      "60/60 [==============================] - 1s 17ms/step - loss: 0.0660 - accuracy: 0.9786 - val_loss: 0.1052 - val_accuracy: 0.9717\n",
      "Epoch 50/150\n",
      "60/60 [==============================] - 1s 18ms/step - loss: 0.0641 - accuracy: 0.9797 - val_loss: 0.1056 - val_accuracy: 0.9713\n",
      "Epoch 51/150\n",
      "60/60 [==============================] - 1s 18ms/step - loss: 0.0631 - accuracy: 0.9798 - val_loss: 0.1090 - val_accuracy: 0.9704\n",
      "Epoch 52/150\n",
      "60/60 [==============================] - 1s 18ms/step - loss: 0.0625 - accuracy: 0.9794 - val_loss: 0.1054 - val_accuracy: 0.9716\n",
      "Epoch 53/150\n",
      "60/60 [==============================] - 1s 18ms/step - loss: 0.0615 - accuracy: 0.9802 - val_loss: 0.1093 - val_accuracy: 0.9699\n",
      "Epoch 54/150\n",
      "60/60 [==============================] - 1s 18ms/step - loss: 0.0615 - accuracy: 0.9806 - val_loss: 0.1049 - val_accuracy: 0.9712\n",
      "Epoch 55/150\n",
      "60/60 [==============================] - 1s 18ms/step - loss: 0.0580 - accuracy: 0.9808 - val_loss: 0.1062 - val_accuracy: 0.9709\n",
      "Epoch 56/150\n",
      "60/60 [==============================] - 1s 18ms/step - loss: 0.0578 - accuracy: 0.9809 - val_loss: 0.1079 - val_accuracy: 0.9717\n",
      "Epoch 57/150\n",
      "60/60 [==============================] - 1s 18ms/step - loss: 0.0571 - accuracy: 0.9820 - val_loss: 0.1090 - val_accuracy: 0.9714\n",
      "Epoch 58/150\n",
      "60/60 [==============================] - 1s 18ms/step - loss: 0.0590 - accuracy: 0.9812 - val_loss: 0.1067 - val_accuracy: 0.9713\n",
      "Epoch 59/150\n",
      "60/60 [==============================] - 1s 18ms/step - loss: 0.0579 - accuracy: 0.9815 - val_loss: 0.1085 - val_accuracy: 0.9712\n",
      "Epoch 60/150\n",
      "60/60 [==============================] - 1s 18ms/step - loss: 0.0566 - accuracy: 0.9817 - val_loss: 0.1098 - val_accuracy: 0.9711\n",
      "Epoch 61/150\n",
      "60/60 [==============================] - 1s 19ms/step - loss: 0.0573 - accuracy: 0.9814 - val_loss: 0.1075 - val_accuracy: 0.9713\n",
      "Epoch 62/150\n",
      "60/60 [==============================] - 1s 18ms/step - loss: 0.0531 - accuracy: 0.9824 - val_loss: 0.1081 - val_accuracy: 0.9723\n",
      "Epoch 63/150\n",
      "60/60 [==============================] - 1s 18ms/step - loss: 0.0510 - accuracy: 0.9831 - val_loss: 0.1076 - val_accuracy: 0.9722\n",
      "Epoch 64/150\n",
      "60/60 [==============================] - 1s 18ms/step - loss: 0.0526 - accuracy: 0.9830 - val_loss: 0.1093 - val_accuracy: 0.9710\n",
      "Epoch 65/150\n",
      "60/60 [==============================] - 1s 18ms/step - loss: 0.0549 - accuracy: 0.9822 - val_loss: 0.1083 - val_accuracy: 0.9719\n",
      "Epoch 66/150\n",
      "60/60 [==============================] - 1s 18ms/step - loss: 0.0510 - accuracy: 0.9840 - val_loss: 0.1096 - val_accuracy: 0.9716\n",
      "Epoch 67/150\n",
      "60/60 [==============================] - 1s 18ms/step - loss: 0.0499 - accuracy: 0.9835 - val_loss: 0.1105 - val_accuracy: 0.9708\n",
      "Epoch 68/150\n",
      "60/60 [==============================] - 1s 18ms/step - loss: 0.0500 - accuracy: 0.9836 - val_loss: 0.1125 - val_accuracy: 0.9716\n",
      "Epoch 69/150\n",
      "60/60 [==============================] - 1s 18ms/step - loss: 0.0509 - accuracy: 0.9835 - val_loss: 0.1151 - val_accuracy: 0.9711\n",
      "Epoch 70/150\n",
      "60/60 [==============================] - 1s 18ms/step - loss: 0.0495 - accuracy: 0.9835 - val_loss: 0.1120 - val_accuracy: 0.9721\n",
      "Epoch 71/150\n",
      "60/60 [==============================] - 1s 18ms/step - loss: 0.0484 - accuracy: 0.9842 - val_loss: 0.1105 - val_accuracy: 0.9718\n",
      "Epoch 72/150\n",
      "60/60 [==============================] - 1s 18ms/step - loss: 0.0495 - accuracy: 0.9835 - val_loss: 0.1125 - val_accuracy: 0.9717\n",
      "Epoch 73/150\n",
      "60/60 [==============================] - 1s 18ms/step - loss: 0.0491 - accuracy: 0.9841 - val_loss: 0.1127 - val_accuracy: 0.9714\n",
      "Epoch 74/150\n",
      "60/60 [==============================] - 1s 18ms/step - loss: 0.0474 - accuracy: 0.9845 - val_loss: 0.1152 - val_accuracy: 0.9718\n",
      "Epoch 75/150\n",
      "60/60 [==============================] - 1s 18ms/step - loss: 0.0468 - accuracy: 0.9848 - val_loss: 0.1127 - val_accuracy: 0.9723\n",
      "Epoch 76/150\n",
      "60/60 [==============================] - 1s 18ms/step - loss: 0.0463 - accuracy: 0.9845 - val_loss: 0.1145 - val_accuracy: 0.9723\n",
      "Epoch 77/150\n",
      "60/60 [==============================] - 1s 18ms/step - loss: 0.0455 - accuracy: 0.9854 - val_loss: 0.1167 - val_accuracy: 0.9716\n",
      "Epoch 78/150\n",
      "60/60 [==============================] - 1s 18ms/step - loss: 0.0451 - accuracy: 0.9853 - val_loss: 0.1142 - val_accuracy: 0.9721\n",
      "Epoch 79/150\n",
      "60/60 [==============================] - 1s 18ms/step - loss: 0.0444 - accuracy: 0.9853 - val_loss: 0.1171 - val_accuracy: 0.9712\n",
      "Epoch 80/150\n",
      "60/60 [==============================] - 1s 18ms/step - loss: 0.0448 - accuracy: 0.9856 - val_loss: 0.1212 - val_accuracy: 0.9709\n",
      "Epoch 81/150\n",
      "60/60 [==============================] - 1s 18ms/step - loss: 0.0431 - accuracy: 0.9858 - val_loss: 0.1148 - val_accuracy: 0.9718\n",
      "Epoch 82/150\n",
      "60/60 [==============================] - 1s 18ms/step - loss: 0.0446 - accuracy: 0.9855 - val_loss: 0.1162 - val_accuracy: 0.9716\n",
      "Epoch 83/150\n",
      "60/60 [==============================] - 1s 18ms/step - loss: 0.0446 - accuracy: 0.9854 - val_loss: 0.1149 - val_accuracy: 0.9718\n",
      "Epoch 84/150\n",
      "60/60 [==============================] - 1s 18ms/step - loss: 0.0420 - accuracy: 0.9864 - val_loss: 0.1183 - val_accuracy: 0.9714\n",
      "Epoch 85/150\n",
      "60/60 [==============================] - 1s 18ms/step - loss: 0.0415 - accuracy: 0.9865 - val_loss: 0.1180 - val_accuracy: 0.9708\n",
      "Epoch 86/150\n",
      "60/60 [==============================] - 1s 18ms/step - loss: 0.0440 - accuracy: 0.9852 - val_loss: 0.1186 - val_accuracy: 0.9716\n",
      "Epoch 87/150\n",
      "60/60 [==============================] - 1s 18ms/step - loss: 0.0421 - accuracy: 0.9863 - val_loss: 0.1182 - val_accuracy: 0.9709\n",
      "Epoch 88/150\n",
      "60/60 [==============================] - 1s 18ms/step - loss: 0.0429 - accuracy: 0.9855 - val_loss: 0.1169 - val_accuracy: 0.9708\n",
      "Epoch 89/150\n",
      "60/60 [==============================] - 1s 19ms/step - loss: 0.0438 - accuracy: 0.9853 - val_loss: 0.1187 - val_accuracy: 0.9712\n",
      "Epoch 90/150\n",
      "60/60 [==============================] - 1s 18ms/step - loss: 0.0392 - accuracy: 0.9874 - val_loss: 0.1172 - val_accuracy: 0.9724\n",
      "Epoch 91/150\n",
      "60/60 [==============================] - 1s 20ms/step - loss: 0.0402 - accuracy: 0.9863 - val_loss: 0.1197 - val_accuracy: 0.9718\n",
      "Epoch 92/150\n",
      "60/60 [==============================] - 1s 18ms/step - loss: 0.0380 - accuracy: 0.9874 - val_loss: 0.1165 - val_accuracy: 0.9722\n",
      "Epoch 93/150\n",
      "60/60 [==============================] - 1s 18ms/step - loss: 0.0397 - accuracy: 0.9866 - val_loss: 0.1197 - val_accuracy: 0.9708\n",
      "Epoch 94/150\n",
      "60/60 [==============================] - 1s 19ms/step - loss: 0.0384 - accuracy: 0.9874 - val_loss: 0.1173 - val_accuracy: 0.9718\n",
      "Epoch 95/150\n",
      "60/60 [==============================] - 1s 18ms/step - loss: 0.0381 - accuracy: 0.9875 - val_loss: 0.1210 - val_accuracy: 0.9719\n",
      "Epoch 96/150\n",
      "60/60 [==============================] - 1s 18ms/step - loss: 0.0380 - accuracy: 0.9875 - val_loss: 0.1190 - val_accuracy: 0.9721\n",
      "Epoch 97/150\n",
      "60/60 [==============================] - 1s 18ms/step - loss: 0.0397 - accuracy: 0.9864 - val_loss: 0.1227 - val_accuracy: 0.9713\n",
      "Epoch 98/150\n",
      "60/60 [==============================] - 1s 18ms/step - loss: 0.0383 - accuracy: 0.9871 - val_loss: 0.1220 - val_accuracy: 0.9723\n",
      "Epoch 99/150\n",
      "60/60 [==============================] - 1s 18ms/step - loss: 0.0377 - accuracy: 0.9875 - val_loss: 0.1224 - val_accuracy: 0.9720\n",
      "Epoch 100/150\n",
      "60/60 [==============================] - 1s 18ms/step - loss: 0.0360 - accuracy: 0.9880 - val_loss: 0.1181 - val_accuracy: 0.9722\n",
      "Epoch 101/150\n",
      "60/60 [==============================] - 1s 18ms/step - loss: 0.0365 - accuracy: 0.9884 - val_loss: 0.1180 - val_accuracy: 0.9728\n",
      "Epoch 102/150\n",
      "60/60 [==============================] - 1s 18ms/step - loss: 0.0369 - accuracy: 0.9873 - val_loss: 0.1219 - val_accuracy: 0.9731\n",
      "Epoch 103/150\n",
      "60/60 [==============================] - 1s 18ms/step - loss: 0.0392 - accuracy: 0.9874 - val_loss: 0.1188 - val_accuracy: 0.9721\n",
      "Epoch 104/150\n",
      "60/60 [==============================] - 1s 18ms/step - loss: 0.0367 - accuracy: 0.9882 - val_loss: 0.1221 - val_accuracy: 0.9718\n",
      "Epoch 105/150\n"
     ]
    },
    {
     "name": "stdout",
     "output_type": "stream",
     "text": [
      "60/60 [==============================] - 1s 18ms/step - loss: 0.0380 - accuracy: 0.9877 - val_loss: 0.1268 - val_accuracy: 0.9702\n",
      "Epoch 106/150\n",
      "60/60 [==============================] - 1s 17ms/step - loss: 0.0354 - accuracy: 0.9883 - val_loss: 0.1217 - val_accuracy: 0.9716\n",
      "Epoch 107/150\n",
      "60/60 [==============================] - 1s 17ms/step - loss: 0.0378 - accuracy: 0.9871 - val_loss: 0.1264 - val_accuracy: 0.9709\n",
      "Epoch 108/150\n",
      "60/60 [==============================] - 1s 17ms/step - loss: 0.0340 - accuracy: 0.9886 - val_loss: 0.1266 - val_accuracy: 0.9712\n",
      "Epoch 109/150\n",
      "60/60 [==============================] - 1s 19ms/step - loss: 0.0355 - accuracy: 0.9882 - val_loss: 0.1249 - val_accuracy: 0.9711\n",
      "Epoch 110/150\n",
      "60/60 [==============================] - 1s 20ms/step - loss: 0.0350 - accuracy: 0.9884 - val_loss: 0.1214 - val_accuracy: 0.9722\n",
      "Epoch 111/150\n",
      "60/60 [==============================] - 1s 18ms/step - loss: 0.0359 - accuracy: 0.9885 - val_loss: 0.1244 - val_accuracy: 0.9714\n",
      "Epoch 112/150\n",
      "60/60 [==============================] - 1s 18ms/step - loss: 0.0345 - accuracy: 0.9882 - val_loss: 0.1288 - val_accuracy: 0.9723\n",
      "Epoch 113/150\n",
      "60/60 [==============================] - 1s 18ms/step - loss: 0.0343 - accuracy: 0.9884 - val_loss: 0.1281 - val_accuracy: 0.9721\n",
      "Epoch 114/150\n",
      "60/60 [==============================] - 1s 18ms/step - loss: 0.0363 - accuracy: 0.9882 - val_loss: 0.1318 - val_accuracy: 0.9709\n",
      "Epoch 115/150\n",
      "60/60 [==============================] - 1s 18ms/step - loss: 0.0338 - accuracy: 0.9887 - val_loss: 0.1327 - val_accuracy: 0.9704\n",
      "Epoch 116/150\n",
      "60/60 [==============================] - 1s 18ms/step - loss: 0.0343 - accuracy: 0.9884 - val_loss: 0.1303 - val_accuracy: 0.9715\n",
      "Epoch 117/150\n",
      "60/60 [==============================] - 1s 17ms/step - loss: 0.0348 - accuracy: 0.9882 - val_loss: 0.1292 - val_accuracy: 0.9708\n",
      "Epoch 118/150\n",
      "60/60 [==============================] - 1s 17ms/step - loss: 0.0336 - accuracy: 0.9888 - val_loss: 0.1313 - val_accuracy: 0.9715\n",
      "Epoch 119/150\n",
      "60/60 [==============================] - 1s 18ms/step - loss: 0.0331 - accuracy: 0.9891 - val_loss: 0.1289 - val_accuracy: 0.9720\n",
      "Epoch 120/150\n",
      "60/60 [==============================] - 1s 18ms/step - loss: 0.0357 - accuracy: 0.9881 - val_loss: 0.1273 - val_accuracy: 0.9715\n",
      "Epoch 121/150\n",
      "60/60 [==============================] - 1s 18ms/step - loss: 0.0306 - accuracy: 0.9899 - val_loss: 0.1328 - val_accuracy: 0.9715\n",
      "Epoch 122/150\n",
      "60/60 [==============================] - 1s 17ms/step - loss: 0.0331 - accuracy: 0.9887 - val_loss: 0.1327 - val_accuracy: 0.9707\n",
      "Epoch 123/150\n",
      "60/60 [==============================] - 1s 18ms/step - loss: 0.0322 - accuracy: 0.9894 - val_loss: 0.1334 - val_accuracy: 0.9719\n",
      "Epoch 124/150\n",
      "60/60 [==============================] - 1s 18ms/step - loss: 0.0327 - accuracy: 0.9892 - val_loss: 0.1314 - val_accuracy: 0.9719\n",
      "Epoch 125/150\n",
      "60/60 [==============================] - 1s 18ms/step - loss: 0.0310 - accuracy: 0.9899 - val_loss: 0.1334 - val_accuracy: 0.9711\n",
      "Epoch 126/150\n",
      "60/60 [==============================] - 1s 17ms/step - loss: 0.0335 - accuracy: 0.9886 - val_loss: 0.1356 - val_accuracy: 0.9708\n",
      "Epoch 127/150\n",
      "60/60 [==============================] - 1s 17ms/step - loss: 0.0344 - accuracy: 0.9886 - val_loss: 0.1377 - val_accuracy: 0.9701\n",
      "Epoch 128/150\n",
      "60/60 [==============================] - 1s 18ms/step - loss: 0.0327 - accuracy: 0.9895 - val_loss: 0.1290 - val_accuracy: 0.9720\n",
      "Epoch 129/150\n",
      "60/60 [==============================] - 1s 17ms/step - loss: 0.0327 - accuracy: 0.9895 - val_loss: 0.1306 - val_accuracy: 0.9708\n",
      "Epoch 130/150\n",
      "60/60 [==============================] - 1s 18ms/step - loss: 0.0322 - accuracy: 0.9888 - val_loss: 0.1341 - val_accuracy: 0.9712\n",
      "Epoch 131/150\n",
      "60/60 [==============================] - 1s 18ms/step - loss: 0.0320 - accuracy: 0.9895 - val_loss: 0.1319 - val_accuracy: 0.9703\n",
      "Epoch 132/150\n",
      "60/60 [==============================] - 1s 18ms/step - loss: 0.0325 - accuracy: 0.9895 - val_loss: 0.1339 - val_accuracy: 0.9713\n",
      "Epoch 133/150\n",
      "60/60 [==============================] - 1s 18ms/step - loss: 0.0312 - accuracy: 0.9896 - val_loss: 0.1357 - val_accuracy: 0.9715\n",
      "Epoch 134/150\n",
      "60/60 [==============================] - 1s 17ms/step - loss: 0.0298 - accuracy: 0.9901 - val_loss: 0.1362 - val_accuracy: 0.9718\n",
      "Epoch 135/150\n",
      "60/60 [==============================] - 1s 18ms/step - loss: 0.0318 - accuracy: 0.9898 - val_loss: 0.1410 - val_accuracy: 0.9715\n",
      "Epoch 136/150\n",
      "60/60 [==============================] - 1s 18ms/step - loss: 0.0305 - accuracy: 0.9896 - val_loss: 0.1450 - val_accuracy: 0.9707\n",
      "Epoch 137/150\n",
      "60/60 [==============================] - 1s 17ms/step - loss: 0.0314 - accuracy: 0.9897 - val_loss: 0.1391 - val_accuracy: 0.9712\n",
      "Epoch 138/150\n",
      "60/60 [==============================] - 1s 18ms/step - loss: 0.0324 - accuracy: 0.9894 - val_loss: 0.1389 - val_accuracy: 0.9713\n",
      "Epoch 139/150\n",
      "60/60 [==============================] - 1s 18ms/step - loss: 0.0312 - accuracy: 0.9900 - val_loss: 0.1408 - val_accuracy: 0.9699\n",
      "Epoch 140/150\n",
      "60/60 [==============================] - 1s 17ms/step - loss: 0.0313 - accuracy: 0.9901 - val_loss: 0.1376 - val_accuracy: 0.9718\n",
      "Epoch 141/150\n",
      "60/60 [==============================] - 1s 19ms/step - loss: 0.0300 - accuracy: 0.9902 - val_loss: 0.1390 - val_accuracy: 0.9713\n",
      "Epoch 142/150\n",
      "60/60 [==============================] - 1s 18ms/step - loss: 0.0299 - accuracy: 0.9895 - val_loss: 0.1350 - val_accuracy: 0.9711\n",
      "Epoch 143/150\n",
      "60/60 [==============================] - 1s 18ms/step - loss: 0.0303 - accuracy: 0.9900 - val_loss: 0.1361 - val_accuracy: 0.9712\n",
      "Epoch 144/150\n",
      "60/60 [==============================] - 1s 18ms/step - loss: 0.0285 - accuracy: 0.9912 - val_loss: 0.1401 - val_accuracy: 0.9703\n",
      "Epoch 145/150\n",
      "60/60 [==============================] - 1s 18ms/step - loss: 0.0294 - accuracy: 0.9902 - val_loss: 0.1394 - val_accuracy: 0.9703\n",
      "Epoch 146/150\n",
      "60/60 [==============================] - 1s 17ms/step - loss: 0.0296 - accuracy: 0.9908 - val_loss: 0.1361 - val_accuracy: 0.9702\n",
      "Epoch 147/150\n",
      "60/60 [==============================] - 1s 18ms/step - loss: 0.0288 - accuracy: 0.9908 - val_loss: 0.1372 - val_accuracy: 0.9708\n",
      "Epoch 148/150\n",
      "60/60 [==============================] - 1s 18ms/step - loss: 0.0290 - accuracy: 0.9906 - val_loss: 0.1441 - val_accuracy: 0.9708\n",
      "Epoch 149/150\n",
      "60/60 [==============================] - 1s 18ms/step - loss: 0.0293 - accuracy: 0.9902 - val_loss: 0.1438 - val_accuracy: 0.9703\n",
      "Epoch 150/150\n",
      "60/60 [==============================] - 1s 18ms/step - loss: 0.0292 - accuracy: 0.9905 - val_loss: 0.1445 - val_accuracy: 0.9710\n"
     ]
    },
    {
     "data": {
      "text/plain": [
       "(<keras.src.callbacks.History at 0x22991c1e2d0>,\n",
       " <keras.src.engine.sequential.Sequential at 0x229929b9050>)"
      ]
     },
     "execution_count": 17,
     "metadata": {},
     "output_type": "execute_result"
    }
   ],
   "source": [
    "model2()"
   ]
  },
  {
   "cell_type": "markdown",
   "id": "d0bb0585",
   "metadata": {},
   "source": [
    "- **Save the model**"
   ]
  },
  {
   "cell_type": "code",
   "execution_count": 18,
   "id": "69bc5938",
   "metadata": {},
   "outputs": [
    {
     "name": "stderr",
     "output_type": "stream",
     "text": [
      "C:\\Users\\SHIV-G\\anaconda3\\Lib\\site-packages\\keras\\src\\engine\\training.py:3079: UserWarning: You are saving your model as an HDF5 file via `model.save()`. This file format is considered legacy. We recommend using instead the native Keras format, e.g. `model.save('my_model.keras')`.\n",
      "  saving_api.save_model(\n"
     ]
    }
   ],
   "source": [
    "from keras.models import load_model \n",
    "model.save(\"handwritten_digits.h5\") "
   ]
  },
  {
   "cell_type": "markdown",
   "id": "5bf31d57",
   "metadata": {},
   "source": [
    "### 6. Model Evaluation"
   ]
  },
  {
   "cell_type": "code",
   "execution_count": 19,
   "id": "9af8c190",
   "metadata": {},
   "outputs": [],
   "source": [
    "from sklearn.metrics import classification_report\n",
    "from sklearn.metrics import confusion_matrix\n"
   ]
  },
  {
   "cell_type": "markdown",
   "id": "9469fe78",
   "metadata": {},
   "source": [
    "- **Evaluate Model with Graph : Plot the change in accuracy and loss per epochs**"
   ]
  },
  {
   "cell_type": "code",
   "execution_count": 20,
   "id": "8f5f612e",
   "metadata": {
    "scrolled": true
   },
   "outputs": [
    {
     "name": "stdout",
     "output_type": "stream",
     "text": [
      "dict_keys(['loss', 'accuracy', 'val_loss', 'val_accuracy'])\n"
     ]
    },
    {
     "data": {
      "image/png": "[encoded data removed]",
      "text/plain": [
       "<Figure size 1000x300 with 2 Axes>"
      ]
     },
     "metadata": {},
     "output_type": "display_data"
    }
   ],
   "source": [
    "# list all data in training\n",
    "print(hist.history.keys())\n",
    "plt.figure(figsize=(10,3))\n",
    "\n",
    "# summarize training for accuracy\n",
    "plt.subplot(1,2,1)\n",
    "plt.plot(hist.history['accuracy'])\n",
    "plt.plot(hist.history['val_accuracy'])\n",
    "plt.title('model accuracy')\n",
    "plt.ylabel('accuracy')\n",
    "plt.xlabel('epoch')\n",
    "plt.legend(['train', 'test'], loc='upper left')\n",
    "\n",
    "\n",
    "# summarize traning for loss\n",
    "plt.subplot(1,2,2)\n",
    "plt.plot(hist.history['loss'])\n",
    "plt.plot(hist.history['val_loss'])\n",
    "plt.title('model loss')\n",
    "plt.ylabel('loss')\n",
    "plt.xlabel('epoch')\n",
    "plt.legend(['train', 'test'], loc='upper left')\n",
    "\n",
    "plt.savefig(\"Model Accuracy.png\")\n",
    "plt.show()"
   ]
  },
  {
   "cell_type": "markdown",
   "id": "63f45691",
   "metadata": {},
   "source": [
    "- **Evaluating model performance with evaluate() method** "
   ]
  },
  {
   "cell_type": "code",
   "execution_count": 21,
   "id": "75122e0e",
   "metadata": {
    "scrolled": true
   },
   "outputs": [
    {
     "name": "stdout",
     "output_type": "stream",
     "text": [
      "167/167 [==============================] - 1s 4ms/step - loss: 0.1310 - accuracy: 0.9746\n",
      "\n",
      "Test accuracy: 97.5%\n"
     ]
    }
   ],
   "source": [
    "loss, acc = model.evaluate(X_test, y_test, batch_size=60)\n",
    "print(\"\\nTest accuracy: %.1f%%\" % (100.0 * acc))"
   ]
  },
  {
   "cell_type": "markdown",
   "id": "57f6dad6",
   "metadata": {},
   "source": [
    "- **Evaluating model using Confusion Matrix** "
   ]
  },
  {
   "cell_type": "code",
   "execution_count": 22,
   "id": "9e31d638",
   "metadata": {
    "scrolled": true
   },
   "outputs": [
    {
     "name": "stdout",
     "output_type": "stream",
     "text": [
      "313/313 [==============================] - 1s 3ms/step\n"
     ]
    }
   ],
   "source": [
    "y_pred = model.predict(X_test)\n",
    "y_true = np.argmax(y_test, axis=1)\n",
    "y_pred = np.argmax(y_pred, axis=1)"
   ]
  },
  {
   "cell_type": "code",
   "execution_count": 23,
   "id": "60f9b3b7",
   "metadata": {},
   "outputs": [
    {
     "data": {
      "image/png": "[encoded data removed]",
      "text/plain": [
       "<Figure size 800x700 with 2 Axes>"
      ]
     },
     "metadata": {},
     "output_type": "display_data"
    }
   ],
   "source": [
    "lab=[\"zero\",\"one\",\"two\",\"three\",\"four\",\"five\",\"six\",\"seven\",\"eight\",\"nine\"]\n",
    "plt.figure(figsize=(8,7))\n",
    "cf=confusion_matrix(y_true, y_pred)\n",
    "sns.heatmap(cf,annot=True,fmt=\"d\",cmap=\"rainbow\",xticklabels=lab,yticklabels=lab)\n",
    "plt.show()"
   ]
  },
  {
   "cell_type": "markdown",
   "id": "ab453380",
   "metadata": {},
   "source": [
    "- **Classification Report** "
   ]
  },
  {
   "cell_type": "code",
   "execution_count": 24,
   "id": "7ff4ab82",
   "metadata": {},
   "outputs": [
    {
     "name": "stdout",
     "output_type": "stream",
     "text": [
      "              precision    recall  f1-score   support\n",
      "\n",
      "        zero       0.98      0.99      0.99       980\n",
      "         one       0.98      0.99      0.99      1135\n",
      "         two       0.98      0.98      0.98      1032\n",
      "       three       0.96      0.98      0.97      1010\n",
      "        four       0.97      0.98      0.98       982\n",
      "        five       0.97      0.97      0.97       892\n",
      "         six       0.98      0.97      0.98       958\n",
      "       seven       0.97      0.97      0.97      1028\n",
      "       eight       0.98      0.94      0.96       974\n",
      "        nine       0.98      0.95      0.96      1009\n",
      "\n",
      "    accuracy                           0.97     10000\n",
      "   macro avg       0.97      0.97      0.97     10000\n",
      "weighted avg       0.97      0.97      0.97     10000\n",
      "\n"
     ]
    }
   ],
   "source": [
    "print(classification_report(y_true,y_pred,target_names=lab))"
   ]
  },
  {
   "cell_type": "markdown",
   "id": "17a766a3",
   "metadata": {},
   "source": [
    "### 7. Making Prediction on Data"
   ]
  },
  {
   "cell_type": "markdown",
   "id": "a15da30b",
   "metadata": {},
   "source": [
    "- **Load the Model**"
   ]
  },
  {
   "cell_type": "code",
   "execution_count": 25,
   "id": "1a14ff2c",
   "metadata": {},
   "outputs": [
    {
     "data": {
      "text/plain": [
       "<keras.src.engine.sequential.Sequential at 0x2298da40a10>"
      ]
     },
     "execution_count": 25,
     "metadata": {},
     "output_type": "execute_result"
    }
   ],
   "source": [
    "model1 = load_model(\"handwritten_digits.h5\")\n",
    "model1"
   ]
  },
  {
   "cell_type": "markdown",
   "id": "88f76081",
   "metadata": {},
   "source": [
    "- **Making Prediction**"
   ]
  },
  {
   "cell_type": "code",
   "execution_count": 26,
   "id": "1b227aef",
   "metadata": {},
   "outputs": [
    {
     "name": "stdout",
     "output_type": "stream",
     "text": [
      "Index : 2119, True Value : 8, Predicted Value : 8\n",
      "Index : 4716, True Value : 2, Predicted Value : 2\n",
      "Index : 2613, True Value : 4, Predicted Value : 4\n",
      "Index : 1623, True Value : 0, Predicted Value : 0\n",
      "Index : 9929, True Value : 7, Predicted Value : 7\n",
      "Index : 1789, True Value : 3, Predicted Value : 3\n",
      "Index : 4955, True Value : 7, Predicted Value : 7\n",
      "Index : 4932, True Value : 1, Predicted Value : 1\n",
      "Index : 1104, True Value : 7, Predicted Value : 7\n",
      "Index : 6228, True Value : 9, Predicted Value : 9\n",
      "Index : 9583, True Value : 5, Predicted Value : 5\n",
      "Index : 8087, True Value : 3, Predicted Value : 3\n",
      "Index : 1278, True Value : 3, Predicted Value : 3\n",
      "Index : 534, True Value : 6, Predicted Value : 6\n",
      "Index : 6209, True Value : 8, Predicted Value : 8\n",
      "Index : 964, True Value : 1, Predicted Value : 1\n",
      "Index : 264, True Value : 9, Predicted Value : 9\n",
      "Index : 3890, True Value : 5, Predicted Value : 5\n",
      "Index : 9013, True Value : 5, Predicted Value : 5\n",
      "Index : 9061, True Value : 1, Predicted Value : 1\n",
      "Index : 1349, True Value : 2, Predicted Value : 2\n",
      "Index : 4346, True Value : 6, Predicted Value : 6\n",
      "Index : 8568, True Value : 1, Predicted Value : 1\n",
      "Index : 5007, True Value : 6, Predicted Value : 6\n",
      "Index : 4898, True Value : 6, Predicted Value : 6\n",
      "Index : 4487, True Value : 7, Predicted Value : 7\n",
      "Index : 9213, True Value : 8, Predicted Value : 8\n",
      "Index : 7793, True Value : 5, Predicted Value : 5\n",
      "Index : 7907, True Value : 0, Predicted Value : 0\n",
      "Index : 7477, True Value : 7, Predicted Value : 7\n"
     ]
    }
   ],
   "source": [
    "for i in range(30):\n",
    "    index = np.random.randint(0, X_test.shape[0])\n",
    "    true_data = np.argmax(y_test[index])  # Get the true class label\n",
    "    pred_data = y_pred[index]  # Get the predicted class label\n",
    "    print(f'Index : {index}, True Value : {true_data}, Predicted Value : {pred_data}')    "
   ]
  },
  {
   "cell_type": "markdown",
   "id": "8bbd4aec",
   "metadata": {},
   "source": [
    "### 8. Results and Conclusion "
   ]
  },
  {
   "cell_type": "markdown",
   "id": "a3a3bc24",
   "metadata": {},
   "source": [
    "In conclusion, MNIST handwritten text recognition, driven by neural networks, has been instrumental in the evolution of machine learning and computer vision. The success achieved in this task has significantly contributed to the development of deep learning techniques and their application to a wide range of real-world problems. As technology continues to advance, the insights gained from MNIST will continue to shape the field, fostering the growth of increasingly sophisticated neural network models for text recognition and broader applications."
   ]
  }
 ],
 "metadata": {
  "kernelspec": {
   "display_name": "Python 3 (ipykernel)",
   "language": "python",
   "name": "python3"
  },
  "language_info": {
   "codemirror_mode": {
    "name": "ipython",
    "version": 3
   },
   "file_extension": ".py",
   "mimetype": "text/x-python",
   "name": "python",
   "nbconvert_exporter": "python",
   "pygments_lexer": "ipython3",
   "version": "3.11.5"
  }
 },
 "nbformat": 4,
 "nbformat_minor": 5
}
